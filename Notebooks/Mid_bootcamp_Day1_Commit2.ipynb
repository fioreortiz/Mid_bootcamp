{
 "cells": [
  {
   "cell_type": "markdown",
   "id": "e284f713",
   "metadata": {},
   "source": [
    "# Data cleaning"
   ]
  },
  {
   "cell_type": "markdown",
   "id": "4b84edb5",
   "metadata": {},
   "source": [
    "#### This is the second database I'm going to work with. The objective of working with this is to know the beneficiary population assigned from 0 to 4 years by UMF and answer the question if this data has changed along the last 10 years.\n",
    "In this file I explore and clean two files: pda_2013_01_31 and pda_2023_01_31. Both databases were downloaded from webpage http://datos.imss.gob.mx/dataset/pda-2013 and http://datos.imss.gob.mx/dataset/pda-2023"
   ]
  },
  {
   "cell_type": "markdown",
   "id": "38bacde7",
   "metadata": {},
   "source": [
    "1. First, I imported the database of 2013 and after the database of 2023. I explore the type of variables, the NaN values and the 0 values of each."
   ]
  },
  {
   "cell_type": "code",
   "execution_count": 1,
   "id": "cb673409",
   "metadata": {},
   "outputs": [],
   "source": [
    "import pandas as pd\n",
    "import seaborn as sns"
   ]
  },
  {
   "cell_type": "code",
   "execution_count": 2,
   "id": "7095fae0",
   "metadata": {},
   "outputs": [
    {
     "data": {
      "text/html": [
       "<div>\n",
       "<style scoped>\n",
       "    .dataframe tbody tr th:only-of-type {\n",
       "        vertical-align: middle;\n",
       "    }\n",
       "\n",
       "    .dataframe tbody tr th {\n",
       "        vertical-align: top;\n",
       "    }\n",
       "\n",
       "    .dataframe thead th {\n",
       "        text-align: right;\n",
       "    }\n",
       "</style>\n",
       "<table border=\"1\" class=\"dataframe\">\n",
       "  <thead>\n",
       "    <tr style=\"text-align: right;\">\n",
       "      <th></th>\n",
       "      <th>ID_DELEG_RP</th>\n",
       "      <th>ID_SUBDEL_RP</th>\n",
       "      <th>ID_UMF_RP</th>\n",
       "      <th>NOMBRE_UMF_RP</th>\n",
       "      <th>ST_TIT_FAM</th>\n",
       "      <th>ID_CALIDAD</th>\n",
       "      <th>CVE_GENERO</th>\n",
       "      <th>CVE_RANGO_EDAD</th>\n",
       "      <th>ST_CONSULTORIO</th>\n",
       "      <th>ID_TURNO</th>\n",
       "      <th>ID_CONSULTORIO</th>\n",
       "      <th>TOT_CASOS</th>\n",
       "    </tr>\n",
       "  </thead>\n",
       "  <tbody>\n",
       "    <tr>\n",
       "      <th>0</th>\n",
       "      <td>27</td>\n",
       "      <td>70</td>\n",
       "      <td>31</td>\n",
       "      <td>UMF 031</td>\n",
       "      <td>2</td>\n",
       "      <td>13</td>\n",
       "      <td>1</td>\n",
       "      <td>E10</td>\n",
       "      <td>1</td>\n",
       "      <td>M</td>\n",
       "      <td>1</td>\n",
       "      <td>28</td>\n",
       "    </tr>\n",
       "    <tr>\n",
       "      <th>1</th>\n",
       "      <td>27</td>\n",
       "      <td>70</td>\n",
       "      <td>31</td>\n",
       "      <td>UMF 031</td>\n",
       "      <td>2</td>\n",
       "      <td>2</td>\n",
       "      <td>1</td>\n",
       "      <td>E25</td>\n",
       "      <td>1</td>\n",
       "      <td>M</td>\n",
       "      <td>1</td>\n",
       "      <td>1</td>\n",
       "    </tr>\n",
       "    <tr>\n",
       "      <th>2</th>\n",
       "      <td>27</td>\n",
       "      <td>70</td>\n",
       "      <td>31</td>\n",
       "      <td>UMF 031</td>\n",
       "      <td>2</td>\n",
       "      <td>14</td>\n",
       "      <td>2</td>\n",
       "      <td>E4</td>\n",
       "      <td>1</td>\n",
       "      <td>M</td>\n",
       "      <td>1</td>\n",
       "      <td>6</td>\n",
       "    </tr>\n",
       "    <tr>\n",
       "      <th>3</th>\n",
       "      <td>27</td>\n",
       "      <td>70</td>\n",
       "      <td>31</td>\n",
       "      <td>UMF 031</td>\n",
       "      <td>2</td>\n",
       "      <td>12</td>\n",
       "      <td>2</td>\n",
       "      <td>E23</td>\n",
       "      <td>1</td>\n",
       "      <td>M</td>\n",
       "      <td>1</td>\n",
       "      <td>8</td>\n",
       "    </tr>\n",
       "    <tr>\n",
       "      <th>4</th>\n",
       "      <td>27</td>\n",
       "      <td>70</td>\n",
       "      <td>31</td>\n",
       "      <td>UMF 031</td>\n",
       "      <td>2</td>\n",
       "      <td>16</td>\n",
       "      <td>2</td>\n",
       "      <td>E10</td>\n",
       "      <td>1</td>\n",
       "      <td>M</td>\n",
       "      <td>1</td>\n",
       "      <td>2</td>\n",
       "    </tr>\n",
       "  </tbody>\n",
       "</table>\n",
       "</div>"
      ],
      "text/plain": [
       "   ID_DELEG_RP  ID_SUBDEL_RP  ID_UMF_RP NOMBRE_UMF_RP  ST_TIT_FAM  ID_CALIDAD   \n",
       "0           27            70         31       UMF 031           2          13  \\\n",
       "1           27            70         31       UMF 031           2           2   \n",
       "2           27            70         31       UMF 031           2          14   \n",
       "3           27            70         31       UMF 031           2          12   \n",
       "4           27            70         31       UMF 031           2          16   \n",
       "\n",
       "   CVE_GENERO CVE_RANGO_EDAD  ST_CONSULTORIO ID_TURNO  ID_CONSULTORIO   \n",
       "0           1            E10               1        M               1  \\\n",
       "1           1            E25               1        M               1   \n",
       "2           2             E4               1        M               1   \n",
       "3           2            E23               1        M               1   \n",
       "4           2            E10               1        M               1   \n",
       "\n",
       "   TOT_CASOS  \n",
       "0         28  \n",
       "1          1  \n",
       "2          6  \n",
       "3          8  \n",
       "4          2  "
      ]
     },
     "metadata": {},
     "output_type": "display_data"
    },
    {
     "data": {
      "text/plain": [
       "(3070864, 12)"
      ]
     },
     "execution_count": 2,
     "metadata": {},
     "output_type": "execute_result"
    }
   ],
   "source": [
    "beneficiarios2013 = pd.read_csv('https://drive.google.com/file/d/1t5GxpSE-80OI_kYxcsPAfOVUxxDk4Qha/view?usp=share_link', encoding=\"ISO-8859-1\", sep=\"|\")\n",
    "display(beneficiarios2013.head())\n",
    "beneficiarios2013.shape"
   ]
  },
  {
   "cell_type": "code",
   "execution_count": 3,
   "id": "1800f75d",
   "metadata": {},
   "outputs": [
    {
     "name": "stdout",
     "output_type": "stream",
     "text": [
      "<class 'pandas.core.frame.DataFrame'>\n",
      "RangeIndex: 3070864 entries, 0 to 3070863\n",
      "Data columns (total 12 columns):\n",
      " #   Column          Dtype \n",
      "---  ------          ----- \n",
      " 0   ID_DELEG_RP     int64 \n",
      " 1   ID_SUBDEL_RP    int64 \n",
      " 2   ID_UMF_RP       int64 \n",
      " 3   NOMBRE_UMF_RP   object\n",
      " 4   ST_TIT_FAM      int64 \n",
      " 5   ID_CALIDAD      int64 \n",
      " 6   CVE_GENERO      int64 \n",
      " 7   CVE_RANGO_EDAD  object\n",
      " 8   ST_CONSULTORIO  int64 \n",
      " 9   ID_TURNO        object\n",
      " 10  ID_CONSULTORIO  int64 \n",
      " 11  TOT_CASOS       int64 \n",
      "dtypes: int64(9), object(3)\n",
      "memory usage: 281.1+ MB\n"
     ]
    }
   ],
   "source": [
    "beneficiarios2013.info()"
   ]
  },
  {
   "cell_type": "code",
   "execution_count": 4,
   "id": "b333f049",
   "metadata": {},
   "outputs": [
    {
     "data": {
      "text/plain": [
       "ID_DELEG_RP       0\n",
       "ID_SUBDEL_RP      0\n",
       "ID_UMF_RP         0\n",
       "NOMBRE_UMF_RP     0\n",
       "ST_TIT_FAM        0\n",
       "ID_CALIDAD        0\n",
       "CVE_GENERO        0\n",
       "CVE_RANGO_EDAD    0\n",
       "ST_CONSULTORIO    0\n",
       "ID_TURNO          0\n",
       "ID_CONSULTORIO    0\n",
       "TOT_CASOS         0\n",
       "dtype: int64"
      ]
     },
     "execution_count": 4,
     "metadata": {},
     "output_type": "execute_result"
    }
   ],
   "source": [
    "beneficiarios2013.isna().sum()"
   ]
  },
  {
   "cell_type": "code",
   "execution_count": 5,
   "id": "af58db59",
   "metadata": {},
   "outputs": [
    {
     "data": {
      "text/html": [
       "<div>\n",
       "<style scoped>\n",
       "    .dataframe tbody tr th:only-of-type {\n",
       "        vertical-align: middle;\n",
       "    }\n",
       "\n",
       "    .dataframe tbody tr th {\n",
       "        vertical-align: top;\n",
       "    }\n",
       "\n",
       "    .dataframe thead th {\n",
       "        text-align: right;\n",
       "    }\n",
       "</style>\n",
       "<table border=\"1\" class=\"dataframe\">\n",
       "  <thead>\n",
       "    <tr style=\"text-align: right;\">\n",
       "      <th></th>\n",
       "      <th>header_name</th>\n",
       "      <th>percent_nulls</th>\n",
       "    </tr>\n",
       "  </thead>\n",
       "  <tbody>\n",
       "    <tr>\n",
       "      <th>0</th>\n",
       "      <td>ID_DELEG_RP</td>\n",
       "      <td>0.0</td>\n",
       "    </tr>\n",
       "    <tr>\n",
       "      <th>1</th>\n",
       "      <td>ID_SUBDEL_RP</td>\n",
       "      <td>0.0</td>\n",
       "    </tr>\n",
       "    <tr>\n",
       "      <th>2</th>\n",
       "      <td>ID_UMF_RP</td>\n",
       "      <td>0.0</td>\n",
       "    </tr>\n",
       "    <tr>\n",
       "      <th>3</th>\n",
       "      <td>NOMBRE_UMF_RP</td>\n",
       "      <td>0.0</td>\n",
       "    </tr>\n",
       "    <tr>\n",
       "      <th>4</th>\n",
       "      <td>ST_TIT_FAM</td>\n",
       "      <td>0.0</td>\n",
       "    </tr>\n",
       "    <tr>\n",
       "      <th>5</th>\n",
       "      <td>ID_CALIDAD</td>\n",
       "      <td>0.0</td>\n",
       "    </tr>\n",
       "    <tr>\n",
       "      <th>6</th>\n",
       "      <td>CVE_GENERO</td>\n",
       "      <td>0.0</td>\n",
       "    </tr>\n",
       "    <tr>\n",
       "      <th>7</th>\n",
       "      <td>CVE_RANGO_EDAD</td>\n",
       "      <td>0.0</td>\n",
       "    </tr>\n",
       "    <tr>\n",
       "      <th>8</th>\n",
       "      <td>ST_CONSULTORIO</td>\n",
       "      <td>0.0</td>\n",
       "    </tr>\n",
       "    <tr>\n",
       "      <th>9</th>\n",
       "      <td>ID_TURNO</td>\n",
       "      <td>0.0</td>\n",
       "    </tr>\n",
       "    <tr>\n",
       "      <th>10</th>\n",
       "      <td>ID_CONSULTORIO</td>\n",
       "      <td>0.0</td>\n",
       "    </tr>\n",
       "    <tr>\n",
       "      <th>11</th>\n",
       "      <td>TOT_CASOS</td>\n",
       "      <td>0.0</td>\n",
       "    </tr>\n",
       "  </tbody>\n",
       "</table>\n",
       "</div>"
      ],
      "text/plain": [
       "       header_name  percent_nulls\n",
       "0      ID_DELEG_RP            0.0\n",
       "1     ID_SUBDEL_RP            0.0\n",
       "2        ID_UMF_RP            0.0\n",
       "3    NOMBRE_UMF_RP            0.0\n",
       "4       ST_TIT_FAM            0.0\n",
       "5       ID_CALIDAD            0.0\n",
       "6       CVE_GENERO            0.0\n",
       "7   CVE_RANGO_EDAD            0.0\n",
       "8   ST_CONSULTORIO            0.0\n",
       "9         ID_TURNO            0.0\n",
       "10  ID_CONSULTORIO            0.0\n",
       "11       TOT_CASOS            0.0"
      ]
     },
     "metadata": {},
     "output_type": "display_data"
    }
   ],
   "source": [
    "nulls_df = pd.DataFrame(round(beneficiarios2013.isna().sum()/len(beneficiarios2013),4)*100)\n",
    "nulls_df = nulls_df.reset_index()\n",
    "nulls_df.columns = ['header_name', 'percent_nulls']\n",
    "display(nulls_df)"
   ]
  },
  {
   "cell_type": "code",
   "execution_count": 6,
   "id": "2679d24e",
   "metadata": {},
   "outputs": [
    {
     "name": "stdout",
     "output_type": "stream",
     "text": [
      "Column ID_DELEG_RP has 0 zero values\n",
      "Column ID_SUBDEL_RP has 0 zero values\n",
      "Column ID_UMF_RP has 0 zero values\n",
      "Column NOMBRE_UMF_RP has 64797 zero values\n",
      "Column ST_TIT_FAM has 0 zero values\n",
      "Column ID_CALIDAD has 0 zero values\n",
      "Column CVE_GENERO has 0 zero values\n",
      "Column CVE_RANGO_EDAD has 172222 zero values\n",
      "Column ST_CONSULTORIO has 134470 zero values\n",
      "Column ID_TURNO has 1513551 zero values\n",
      "Column ID_CONSULTORIO has 97970 zero values\n",
      "Column TOT_CASOS has 0 zero values\n"
     ]
    }
   ],
   "source": [
    "for col in beneficiarios2013.columns:\n",
    "    count_zeros = beneficiarios2013[col].value_counts().get(0, 0)\n",
    "    print(f'Column {col} has {count_zeros} zero values')"
   ]
  },
  {
   "cell_type": "code",
   "execution_count": 7,
   "id": "d4d1614c",
   "metadata": {},
   "outputs": [
    {
     "data": {
      "text/html": [
       "<div>\n",
       "<style scoped>\n",
       "    .dataframe tbody tr th:only-of-type {\n",
       "        vertical-align: middle;\n",
       "    }\n",
       "\n",
       "    .dataframe tbody tr th {\n",
       "        vertical-align: top;\n",
       "    }\n",
       "\n",
       "    .dataframe thead th {\n",
       "        text-align: right;\n",
       "    }\n",
       "</style>\n",
       "<table border=\"1\" class=\"dataframe\">\n",
       "  <thead>\n",
       "    <tr style=\"text-align: right;\">\n",
       "      <th></th>\n",
       "      <th>count</th>\n",
       "      <th>mean</th>\n",
       "      <th>std</th>\n",
       "      <th>min</th>\n",
       "      <th>25%</th>\n",
       "      <th>50%</th>\n",
       "      <th>75%</th>\n",
       "      <th>max</th>\n",
       "    </tr>\n",
       "  </thead>\n",
       "  <tbody>\n",
       "    <tr>\n",
       "      <th>ID_DELEG_RP</th>\n",
       "      <td>3070864.0</td>\n",
       "      <td>19.620509</td>\n",
       "      <td>10.816300</td>\n",
       "      <td>1.0</td>\n",
       "      <td>12.0</td>\n",
       "      <td>18.0</td>\n",
       "      <td>27.0</td>\n",
       "      <td>40.0</td>\n",
       "    </tr>\n",
       "    <tr>\n",
       "      <th>ID_SUBDEL_RP</th>\n",
       "      <td>3070864.0</td>\n",
       "      <td>18.609220</td>\n",
       "      <td>21.415858</td>\n",
       "      <td>1.0</td>\n",
       "      <td>2.0</td>\n",
       "      <td>9.0</td>\n",
       "      <td>33.0</td>\n",
       "      <td>80.0</td>\n",
       "    </tr>\n",
       "    <tr>\n",
       "      <th>ID_UMF_RP</th>\n",
       "      <td>3070864.0</td>\n",
       "      <td>44.059968</td>\n",
       "      <td>46.870837</td>\n",
       "      <td>1.0</td>\n",
       "      <td>11.0</td>\n",
       "      <td>32.0</td>\n",
       "      <td>60.0</td>\n",
       "      <td>250.0</td>\n",
       "    </tr>\n",
       "    <tr>\n",
       "      <th>ST_TIT_FAM</th>\n",
       "      <td>3070864.0</td>\n",
       "      <td>1.811528</td>\n",
       "      <td>0.391089</td>\n",
       "      <td>1.0</td>\n",
       "      <td>2.0</td>\n",
       "      <td>2.0</td>\n",
       "      <td>2.0</td>\n",
       "      <td>2.0</td>\n",
       "    </tr>\n",
       "    <tr>\n",
       "      <th>ID_CALIDAD</th>\n",
       "      <td>3070864.0</td>\n",
       "      <td>9.570846</td>\n",
       "      <td>6.269501</td>\n",
       "      <td>1.0</td>\n",
       "      <td>2.0</td>\n",
       "      <td>13.0</td>\n",
       "      <td>14.0</td>\n",
       "      <td>40.0</td>\n",
       "    </tr>\n",
       "    <tr>\n",
       "      <th>CVE_GENERO</th>\n",
       "      <td>3070864.0</td>\n",
       "      <td>1.530917</td>\n",
       "      <td>0.499043</td>\n",
       "      <td>1.0</td>\n",
       "      <td>1.0</td>\n",
       "      <td>2.0</td>\n",
       "      <td>2.0</td>\n",
       "      <td>2.0</td>\n",
       "    </tr>\n",
       "    <tr>\n",
       "      <th>ST_CONSULTORIO</th>\n",
       "      <td>3070864.0</td>\n",
       "      <td>0.956211</td>\n",
       "      <td>0.204625</td>\n",
       "      <td>0.0</td>\n",
       "      <td>1.0</td>\n",
       "      <td>1.0</td>\n",
       "      <td>1.0</td>\n",
       "      <td>1.0</td>\n",
       "    </tr>\n",
       "    <tr>\n",
       "      <th>ID_CONSULTORIO</th>\n",
       "      <td>3070864.0</td>\n",
       "      <td>127.387324</td>\n",
       "      <td>1082.604295</td>\n",
       "      <td>0.0</td>\n",
       "      <td>2.0</td>\n",
       "      <td>6.0</td>\n",
       "      <td>13.0</td>\n",
       "      <td>9998.0</td>\n",
       "    </tr>\n",
       "    <tr>\n",
       "      <th>TOT_CASOS</th>\n",
       "      <td>3070864.0</td>\n",
       "      <td>16.221569</td>\n",
       "      <td>56.234139</td>\n",
       "      <td>1.0</td>\n",
       "      <td>2.0</td>\n",
       "      <td>6.0</td>\n",
       "      <td>15.0</td>\n",
       "      <td>12262.0</td>\n",
       "    </tr>\n",
       "  </tbody>\n",
       "</table>\n",
       "</div>"
      ],
      "text/plain": [
       "                    count        mean          std  min   25%   50%   75%   \n",
       "ID_DELEG_RP     3070864.0   19.620509    10.816300  1.0  12.0  18.0  27.0  \\\n",
       "ID_SUBDEL_RP    3070864.0   18.609220    21.415858  1.0   2.0   9.0  33.0   \n",
       "ID_UMF_RP       3070864.0   44.059968    46.870837  1.0  11.0  32.0  60.0   \n",
       "ST_TIT_FAM      3070864.0    1.811528     0.391089  1.0   2.0   2.0   2.0   \n",
       "ID_CALIDAD      3070864.0    9.570846     6.269501  1.0   2.0  13.0  14.0   \n",
       "CVE_GENERO      3070864.0    1.530917     0.499043  1.0   1.0   2.0   2.0   \n",
       "ST_CONSULTORIO  3070864.0    0.956211     0.204625  0.0   1.0   1.0   1.0   \n",
       "ID_CONSULTORIO  3070864.0  127.387324  1082.604295  0.0   2.0   6.0  13.0   \n",
       "TOT_CASOS       3070864.0   16.221569    56.234139  1.0   2.0   6.0  15.0   \n",
       "\n",
       "                    max  \n",
       "ID_DELEG_RP        40.0  \n",
       "ID_SUBDEL_RP       80.0  \n",
       "ID_UMF_RP         250.0  \n",
       "ST_TIT_FAM          2.0  \n",
       "ID_CALIDAD         40.0  \n",
       "CVE_GENERO          2.0  \n",
       "ST_CONSULTORIO      1.0  \n",
       "ID_CONSULTORIO   9998.0  \n",
       "TOT_CASOS       12262.0  "
      ]
     },
     "execution_count": 7,
     "metadata": {},
     "output_type": "execute_result"
    }
   ],
   "source": [
    "beneficiarios2013.describe().T"
   ]
  },
  {
   "cell_type": "code",
   "execution_count": 8,
   "id": "1f247f9b",
   "metadata": {},
   "outputs": [
    {
     "data": {
      "text/plain": [
       "array([1, 2])"
      ]
     },
     "execution_count": 8,
     "metadata": {},
     "output_type": "execute_result"
    }
   ],
   "source": [
    "beneficiarios2013['CVE_GENERO'].unique()"
   ]
  },
  {
   "cell_type": "code",
   "execution_count": 9,
   "id": "37913ea4",
   "metadata": {},
   "outputs": [
    {
     "data": {
      "text/plain": [
       "CVE_GENERO\n",
       "2    1630375\n",
       "1    1440489\n",
       "Name: count, dtype: int64"
      ]
     },
     "execution_count": 9,
     "metadata": {},
     "output_type": "execute_result"
    }
   ],
   "source": [
    "beneficiarios2013['CVE_GENERO'].value_counts()"
   ]
  },
  {
   "cell_type": "code",
   "execution_count": 10,
   "id": "42d76198",
   "metadata": {},
   "outputs": [
    {
     "data": {
      "text/plain": [
       "array([ 31,  14,  69,  22,  13,  41,   6,  26,   9,   2, 128,  56,  20,\n",
       "        50,  51,  47,  16, 245,  53,  12,  49,  11,   1,  17,  25,  42,\n",
       "        30,   3,  18,  10,  38,  43,  32,  55,  24,  73,   5,  48, 137,\n",
       "        15,  23,  54,  19,  94,  29,  44,   4,  34,  37, 187, 192, 235,\n",
       "        39,   7,  36, 161,  70,  66,  71,  40,  28,  45,  21,  68, 230,\n",
       "        46,  52, 120,   8, 160,  67,  93,  79, 195, 193, 181, 180,  33,\n",
       "        58, 189,  84,  83,  81,  92,  57,  64,  62,  65,  61,  63,  77,\n",
       "        91, 198,  60,  74,  72, 234,  35, 184, 165, 236, 243, 240, 244,\n",
       "        85,  27, 114, 167,  88, 171,  78,  59, 190,  87, 188,  86, 227,\n",
       "       226, 186, 100, 178, 246, 250, 191, 140, 177, 223,  97, 237,  96,\n",
       "       162, 231,  80,  75, 182, 183,  76, 169, 130,  89,  95, 170, 179,\n",
       "        82, 132, 106, 248, 247, 228, 249, 238,  98, 239, 241, 229, 242,\n",
       "       159, 168, 155, 222, 220, 225, 185, 133, 233, 232, 224])"
      ]
     },
     "execution_count": 10,
     "metadata": {},
     "output_type": "execute_result"
    }
   ],
   "source": [
    "beneficiarios2013['ID_UMF_RP'].unique()"
   ]
  },
  {
   "cell_type": "code",
   "execution_count": 11,
   "id": "aeade444",
   "metadata": {},
   "outputs": [
    {
     "data": {
      "text/plain": [
       "ID_UMF_RP\n",
       "2      113225\n",
       "1      111472\n",
       "7       80299\n",
       "3       70655\n",
       "9       69257\n",
       "        ...  \n",
       "137       281\n",
       "238       270\n",
       "237       267\n",
       "98        264\n",
       "106       264\n",
       "Name: count, Length: 167, dtype: int64"
      ]
     },
     "execution_count": 11,
     "metadata": {},
     "output_type": "execute_result"
    }
   ],
   "source": [
    "beneficiarios2013['ID_UMF_RP'].value_counts()"
   ]
  },
  {
   "cell_type": "code",
   "execution_count": 12,
   "id": "1896a023",
   "metadata": {},
   "outputs": [
    {
     "data": {
      "text/plain": [
       "array([2, 1])"
      ]
     },
     "execution_count": 12,
     "metadata": {},
     "output_type": "execute_result"
    }
   ],
   "source": [
    "beneficiarios2013['ST_TIT_FAM'].unique()"
   ]
  },
  {
   "cell_type": "code",
   "execution_count": 13,
   "id": "6e68c0e5",
   "metadata": {},
   "outputs": [
    {
     "data": {
      "text/plain": [
       "ST_TIT_FAM\n",
       "2    2492091\n",
       "1     578773\n",
       "Name: count, dtype: int64"
      ]
     },
     "execution_count": 13,
     "metadata": {},
     "output_type": "execute_result"
    }
   ],
   "source": [
    "beneficiarios2013['ST_TIT_FAM'].value_counts()"
   ]
  },
  {
   "cell_type": "code",
   "execution_count": 14,
   "id": "b6913121",
   "metadata": {},
   "outputs": [
    {
     "data": {
      "text/plain": [
       "array([13,  2, 14, 12, 16, 15,  1, 21, 11, 40, 17,  6, 19, 20,  3, 18,  7,\n",
       "        4, 25,  5, 10, 30, 27,  9, 24, 28,  8, 38, 33, 34, 32, 26, 29, 36,\n",
       "       31, 35, 37, 39])"
      ]
     },
     "execution_count": 14,
     "metadata": {},
     "output_type": "execute_result"
    }
   ],
   "source": [
    "beneficiarios2013['ID_CALIDAD'].unique()"
   ]
  },
  {
   "cell_type": "code",
   "execution_count": 15,
   "id": "7563cda5",
   "metadata": {},
   "outputs": [
    {
     "data": {
      "text/plain": [
       "ID_CALIDAD\n",
       "1     578773\n",
       "13    455713\n",
       "14    401725\n",
       "2     385447\n",
       "15    348402\n",
       "16    214914\n",
       "6     166028\n",
       "12    163970\n",
       "11    140517\n",
       "17     91577\n",
       "18     34894\n",
       "3      31492\n",
       "19     13421\n",
       "7       7772\n",
       "40      7307\n",
       "5       6954\n",
       "20      5826\n",
       "10      3341\n",
       "4       2744\n",
       "21      2629\n",
       "24      1552\n",
       "30       858\n",
       "25       801\n",
       "27       774\n",
       "8        691\n",
       "28       524\n",
       "26       454\n",
       "29       364\n",
       "9        311\n",
       "31       259\n",
       "33       167\n",
       "39       166\n",
       "32       159\n",
       "38        90\n",
       "34        72\n",
       "37        65\n",
       "36        56\n",
       "35        55\n",
       "Name: count, dtype: int64"
      ]
     },
     "execution_count": 15,
     "metadata": {},
     "output_type": "execute_result"
    }
   ],
   "source": [
    "beneficiarios2013['ID_CALIDAD'].value_counts()"
   ]
  },
  {
   "cell_type": "code",
   "execution_count": 16,
   "id": "aaa327ca",
   "metadata": {},
   "outputs": [
    {
     "data": {
      "text/plain": [
       "array([  28,    1,    6, ...,  905, 4257, 1627])"
      ]
     },
     "execution_count": 16,
     "metadata": {},
     "output_type": "execute_result"
    }
   ],
   "source": [
    "beneficiarios2013['TOT_CASOS'].unique()"
   ]
  },
  {
   "cell_type": "code",
   "execution_count": 17,
   "id": "0e1d27f3",
   "metadata": {},
   "outputs": [
    {
     "data": {
      "text/plain": [
       "TOT_CASOS\n",
       "1       699180\n",
       "2       299720\n",
       "3       198432\n",
       "4       158593\n",
       "5       138226\n",
       "         ...  \n",
       "2368         1\n",
       "1308         1\n",
       "2323         1\n",
       "1300         1\n",
       "1627         1\n",
       "Name: count, Length: 1939, dtype: int64"
      ]
     },
     "execution_count": 17,
     "metadata": {},
     "output_type": "execute_result"
    }
   ],
   "source": [
    "beneficiarios2013['TOT_CASOS'].value_counts()"
   ]
  },
  {
   "cell_type": "code",
   "execution_count": 18,
   "id": "6e4c9972",
   "metadata": {},
   "outputs": [
    {
     "data": {
      "text/plain": [
       "array([1, 0])"
      ]
     },
     "execution_count": 18,
     "metadata": {},
     "output_type": "execute_result"
    }
   ],
   "source": [
    "beneficiarios2013['ST_CONSULTORIO'].unique()"
   ]
  },
  {
   "cell_type": "code",
   "execution_count": 19,
   "id": "0f133ade",
   "metadata": {},
   "outputs": [
    {
     "data": {
      "text/plain": [
       "ST_CONSULTORIO\n",
       "1    2936394\n",
       "0     134470\n",
       "Name: count, dtype: int64"
      ]
     },
     "execution_count": 19,
     "metadata": {},
     "output_type": "execute_result"
    }
   ],
   "source": [
    "beneficiarios2013['ST_CONSULTORIO'].value_counts()"
   ]
  },
  {
   "cell_type": "code",
   "execution_count": 20,
   "id": "ee3f9ca0",
   "metadata": {},
   "outputs": [
    {
     "data": {
      "text/plain": [
       "array(['E10', 'E25', 'E4', 'E23', 'E21', 'E5', 'E24', 'E3', 'E2', 'E14',\n",
       "       'E0', 'E17', 'E22', 'E8', 'E11', 'E19', 'E13', 'E6', 'E9', 'E28',\n",
       "       'E7', 'E1', 'E16', 'E12', 'E26', 'E27', 'E20', 'E18', 'E15', 'ND'],\n",
       "      dtype=object)"
      ]
     },
     "execution_count": 20,
     "metadata": {},
     "output_type": "execute_result"
    }
   ],
   "source": [
    "beneficiarios2013['CVE_RANGO_EDAD'].unique()"
   ]
  },
  {
   "cell_type": "code",
   "execution_count": 21,
   "id": "1bc0520c",
   "metadata": {},
   "outputs": [
    {
     "data": {
      "text/plain": [
       "CVE_RANGO_EDAD\n",
       "E10    172222\n",
       "E11    120730\n",
       "E20    118419\n",
       "E9     118083\n",
       "E8     117583\n",
       "E7     117198\n",
       "E6     116257\n",
       "E15    116237\n",
       "E19    116048\n",
       "E21    115616\n",
       "E5     115447\n",
       "E4     114036\n",
       "E3     112398\n",
       "E2     111100\n",
       "E22    110534\n",
       "E1     109072\n",
       "E18    107035\n",
       "E23    105259\n",
       "E0     101541\n",
       "E24     99129\n",
       "E17     98066\n",
       "E16     96041\n",
       "E14     95809\n",
       "E25     92655\n",
       "E26     85803\n",
       "E27     77906\n",
       "E28     77100\n",
       "E13     73827\n",
       "E12     56413\n",
       "ND       3300\n",
       "Name: count, dtype: int64"
      ]
     },
     "execution_count": 21,
     "metadata": {},
     "output_type": "execute_result"
    }
   ],
   "source": [
    "beneficiarios2013['CVE_RANGO_EDAD'].value_counts()"
   ]
  },
  {
   "cell_type": "markdown",
   "id": "62c7d85e",
   "metadata": {},
   "source": [
    "2. Once I reviewed the data, I cleaned the database, doing the next steps:\n",
    "- Eliminate NaN\n",
    "- The 0 values are part of codification of database, so I will work with all 0 values.\n",
    "- Eliminate the columns that I don't need to the analysis. I will work just with 'ID_DELEG_RP', 'ID_SUBDEL_RP', 'ID_UMF_RP', 'NOMBRE_UMF_RP', 'ST_TIT_FAM', 'ID_CALIDAD', 'CVE_SEXO', 'CVE_RANGO_EDAD', 'ST_CONSULTORIO', 'TOT_CASOS'\n",
    "- Make column names lowercase.\n",
    "- Rename columns ID_DELEG_RP and ID_SUBDEL_RP with the same of database asegurados_clean. And CVE_GENERO with CVE_SEXO to could concatenate with the year 2023.\n",
    "- Add the date column, to identify the year of every data."
   ]
  },
  {
   "cell_type": "code",
   "execution_count": 22,
   "id": "05fd5ace",
   "metadata": {},
   "outputs": [],
   "source": [
    "def clean_beneficiarios2013(df):\n",
    "    df=df.drop(columns=[ 'ID_TURNO','ID_CONSULTORIO'])\n",
    "    df=df.rename(columns={'ID_DELEG_RP':'cve_delegacion','ID_SUBDEL_RP':'cve_subdelegacion', 'CVE_GENERO':'CVE_SEXO'})\n",
    "    df.columns=[e.lower().replace(' ', '_') for e in df.columns]\n",
    "    df=df.dropna()\n",
    "    df['period']=pd.to_datetime('2013-01-31')\n",
    "    return df\n",
    "\n",
    "cleaned_beneficiarios2013 = clean_beneficiarios2013(beneficiarios2013) "
   ]
  },
  {
   "cell_type": "code",
   "execution_count": 23,
   "id": "548174ce",
   "metadata": {},
   "outputs": [
    {
     "data": {
      "text/html": [
       "<div>\n",
       "<style scoped>\n",
       "    .dataframe tbody tr th:only-of-type {\n",
       "        vertical-align: middle;\n",
       "    }\n",
       "\n",
       "    .dataframe tbody tr th {\n",
       "        vertical-align: top;\n",
       "    }\n",
       "\n",
       "    .dataframe thead th {\n",
       "        text-align: right;\n",
       "    }\n",
       "</style>\n",
       "<table border=\"1\" class=\"dataframe\">\n",
       "  <thead>\n",
       "    <tr style=\"text-align: right;\">\n",
       "      <th></th>\n",
       "      <th>cve_delegacion</th>\n",
       "      <th>cve_subdelegacion</th>\n",
       "      <th>id_umf_rp</th>\n",
       "      <th>nombre_umf_rp</th>\n",
       "      <th>st_tit_fam</th>\n",
       "      <th>id_calidad</th>\n",
       "      <th>cve_sexo</th>\n",
       "      <th>cve_rango_edad</th>\n",
       "      <th>st_consultorio</th>\n",
       "      <th>tot_casos</th>\n",
       "      <th>period</th>\n",
       "    </tr>\n",
       "  </thead>\n",
       "  <tbody>\n",
       "    <tr>\n",
       "      <th>0</th>\n",
       "      <td>27</td>\n",
       "      <td>70</td>\n",
       "      <td>31</td>\n",
       "      <td>UMF 031</td>\n",
       "      <td>2</td>\n",
       "      <td>13</td>\n",
       "      <td>1</td>\n",
       "      <td>E10</td>\n",
       "      <td>1</td>\n",
       "      <td>28</td>\n",
       "      <td>2013-01-31</td>\n",
       "    </tr>\n",
       "    <tr>\n",
       "      <th>1</th>\n",
       "      <td>27</td>\n",
       "      <td>70</td>\n",
       "      <td>31</td>\n",
       "      <td>UMF 031</td>\n",
       "      <td>2</td>\n",
       "      <td>2</td>\n",
       "      <td>1</td>\n",
       "      <td>E25</td>\n",
       "      <td>1</td>\n",
       "      <td>1</td>\n",
       "      <td>2013-01-31</td>\n",
       "    </tr>\n",
       "    <tr>\n",
       "      <th>2</th>\n",
       "      <td>27</td>\n",
       "      <td>70</td>\n",
       "      <td>31</td>\n",
       "      <td>UMF 031</td>\n",
       "      <td>2</td>\n",
       "      <td>14</td>\n",
       "      <td>2</td>\n",
       "      <td>E4</td>\n",
       "      <td>1</td>\n",
       "      <td>6</td>\n",
       "      <td>2013-01-31</td>\n",
       "    </tr>\n",
       "    <tr>\n",
       "      <th>3</th>\n",
       "      <td>27</td>\n",
       "      <td>70</td>\n",
       "      <td>31</td>\n",
       "      <td>UMF 031</td>\n",
       "      <td>2</td>\n",
       "      <td>12</td>\n",
       "      <td>2</td>\n",
       "      <td>E23</td>\n",
       "      <td>1</td>\n",
       "      <td>8</td>\n",
       "      <td>2013-01-31</td>\n",
       "    </tr>\n",
       "    <tr>\n",
       "      <th>4</th>\n",
       "      <td>27</td>\n",
       "      <td>70</td>\n",
       "      <td>31</td>\n",
       "      <td>UMF 031</td>\n",
       "      <td>2</td>\n",
       "      <td>16</td>\n",
       "      <td>2</td>\n",
       "      <td>E10</td>\n",
       "      <td>1</td>\n",
       "      <td>2</td>\n",
       "      <td>2013-01-31</td>\n",
       "    </tr>\n",
       "    <tr>\n",
       "      <th>...</th>\n",
       "      <td>...</td>\n",
       "      <td>...</td>\n",
       "      <td>...</td>\n",
       "      <td>...</td>\n",
       "      <td>...</td>\n",
       "      <td>...</td>\n",
       "      <td>...</td>\n",
       "      <td>...</td>\n",
       "      <td>...</td>\n",
       "      <td>...</td>\n",
       "      <td>...</td>\n",
       "    </tr>\n",
       "    <tr>\n",
       "      <th>3070859</th>\n",
       "      <td>39</td>\n",
       "      <td>57</td>\n",
       "      <td>35</td>\n",
       "      <td>UMF 035</td>\n",
       "      <td>1</td>\n",
       "      <td>1</td>\n",
       "      <td>2</td>\n",
       "      <td>E23</td>\n",
       "      <td>1</td>\n",
       "      <td>11</td>\n",
       "      <td>2013-01-31</td>\n",
       "    </tr>\n",
       "    <tr>\n",
       "      <th>3070860</th>\n",
       "      <td>12</td>\n",
       "      <td>2</td>\n",
       "      <td>26</td>\n",
       "      <td>UMF 026</td>\n",
       "      <td>2</td>\n",
       "      <td>2</td>\n",
       "      <td>2</td>\n",
       "      <td>E27</td>\n",
       "      <td>1</td>\n",
       "      <td>2</td>\n",
       "      <td>2013-01-31</td>\n",
       "    </tr>\n",
       "    <tr>\n",
       "      <th>3070861</th>\n",
       "      <td>14</td>\n",
       "      <td>38</td>\n",
       "      <td>2</td>\n",
       "      <td>UMF 002</td>\n",
       "      <td>1</td>\n",
       "      <td>1</td>\n",
       "      <td>1</td>\n",
       "      <td>E22</td>\n",
       "      <td>1</td>\n",
       "      <td>33</td>\n",
       "      <td>2013-01-31</td>\n",
       "    </tr>\n",
       "    <tr>\n",
       "      <th>3070862</th>\n",
       "      <td>20</td>\n",
       "      <td>32</td>\n",
       "      <td>28</td>\n",
       "      <td>UMF 028</td>\n",
       "      <td>2</td>\n",
       "      <td>17</td>\n",
       "      <td>2</td>\n",
       "      <td>E6</td>\n",
       "      <td>1</td>\n",
       "      <td>2</td>\n",
       "      <td>2013-01-31</td>\n",
       "    </tr>\n",
       "    <tr>\n",
       "      <th>3070863</th>\n",
       "      <td>26</td>\n",
       "      <td>1</td>\n",
       "      <td>55</td>\n",
       "      <td>UMAA 055</td>\n",
       "      <td>2</td>\n",
       "      <td>2</td>\n",
       "      <td>2</td>\n",
       "      <td>E24</td>\n",
       "      <td>1</td>\n",
       "      <td>15</td>\n",
       "      <td>2013-01-31</td>\n",
       "    </tr>\n",
       "  </tbody>\n",
       "</table>\n",
       "<p>3070864 rows × 11 columns</p>\n",
       "</div>"
      ],
      "text/plain": [
       "         cve_delegacion  cve_subdelegacion  id_umf_rp nombre_umf_rp   \n",
       "0                    27                 70         31       UMF 031  \\\n",
       "1                    27                 70         31       UMF 031   \n",
       "2                    27                 70         31       UMF 031   \n",
       "3                    27                 70         31       UMF 031   \n",
       "4                    27                 70         31       UMF 031   \n",
       "...                 ...                ...        ...           ...   \n",
       "3070859              39                 57         35       UMF 035   \n",
       "3070860              12                  2         26       UMF 026   \n",
       "3070861              14                 38          2       UMF 002   \n",
       "3070862              20                 32         28       UMF 028   \n",
       "3070863              26                  1         55      UMAA 055   \n",
       "\n",
       "         st_tit_fam  id_calidad  cve_sexo cve_rango_edad  st_consultorio   \n",
       "0                 2          13         1            E10               1  \\\n",
       "1                 2           2         1            E25               1   \n",
       "2                 2          14         2             E4               1   \n",
       "3                 2          12         2            E23               1   \n",
       "4                 2          16         2            E10               1   \n",
       "...             ...         ...       ...            ...             ...   \n",
       "3070859           1           1         2            E23               1   \n",
       "3070860           2           2         2            E27               1   \n",
       "3070861           1           1         1            E22               1   \n",
       "3070862           2          17         2             E6               1   \n",
       "3070863           2           2         2            E24               1   \n",
       "\n",
       "         tot_casos     period  \n",
       "0               28 2013-01-31  \n",
       "1                1 2013-01-31  \n",
       "2                6 2013-01-31  \n",
       "3                8 2013-01-31  \n",
       "4                2 2013-01-31  \n",
       "...            ...        ...  \n",
       "3070859         11 2013-01-31  \n",
       "3070860          2 2013-01-31  \n",
       "3070861         33 2013-01-31  \n",
       "3070862          2 2013-01-31  \n",
       "3070863         15 2013-01-31  \n",
       "\n",
       "[3070864 rows x 11 columns]"
      ]
     },
     "execution_count": 23,
     "metadata": {},
     "output_type": "execute_result"
    }
   ],
   "source": [
    "cleaned_beneficiarios2013"
   ]
  },
  {
   "cell_type": "markdown",
   "id": "cb5acbe1",
   "metadata": {},
   "source": [
    "3. I analize the data for 2023, I repeated the same clean steps from database of 2013."
   ]
  },
  {
   "cell_type": "code",
   "execution_count": 24,
   "id": "acd869d0",
   "metadata": {},
   "outputs": [
    {
     "data": {
      "text/html": [
       "<div>\n",
       "<style scoped>\n",
       "    .dataframe tbody tr th:only-of-type {\n",
       "        vertical-align: middle;\n",
       "    }\n",
       "\n",
       "    .dataframe tbody tr th {\n",
       "        vertical-align: top;\n",
       "    }\n",
       "\n",
       "    .dataframe thead th {\n",
       "        text-align: right;\n",
       "    }\n",
       "</style>\n",
       "<table border=\"1\" class=\"dataframe\">\n",
       "  <thead>\n",
       "    <tr style=\"text-align: right;\">\n",
       "      <th></th>\n",
       "      <th>ID_DELEG_RP</th>\n",
       "      <th>ID_SUBDEL_RP</th>\n",
       "      <th>ID_UMF_RP</th>\n",
       "      <th>NOMBRE_UMF_RP</th>\n",
       "      <th>ST_TIT_FAM</th>\n",
       "      <th>ID_CALIDAD</th>\n",
       "      <th>CVE_SEXO</th>\n",
       "      <th>CVE_RANGO_EDAD</th>\n",
       "      <th>ST_CONSULTORIO</th>\n",
       "      <th>ID_TURNO</th>\n",
       "      <th>ID_CONSULTORIO</th>\n",
       "      <th>TOT_CASOS</th>\n",
       "    </tr>\n",
       "  </thead>\n",
       "  <tbody>\n",
       "    <tr>\n",
       "      <th>0</th>\n",
       "      <td>1</td>\n",
       "      <td>1</td>\n",
       "      <td>2</td>\n",
       "      <td>UMF 002</td>\n",
       "      <td>1</td>\n",
       "      <td>1</td>\n",
       "      <td>1</td>\n",
       "      <td>E10</td>\n",
       "      <td>0</td>\n",
       "      <td>0</td>\n",
       "      <td>9998</td>\n",
       "      <td>2</td>\n",
       "    </tr>\n",
       "    <tr>\n",
       "      <th>1</th>\n",
       "      <td>1</td>\n",
       "      <td>1</td>\n",
       "      <td>2</td>\n",
       "      <td>UMF 002</td>\n",
       "      <td>1</td>\n",
       "      <td>1</td>\n",
       "      <td>1</td>\n",
       "      <td>E10</td>\n",
       "      <td>1</td>\n",
       "      <td>M</td>\n",
       "      <td>1</td>\n",
       "      <td>1</td>\n",
       "    </tr>\n",
       "    <tr>\n",
       "      <th>2</th>\n",
       "      <td>1</td>\n",
       "      <td>1</td>\n",
       "      <td>2</td>\n",
       "      <td>UMF 002</td>\n",
       "      <td>1</td>\n",
       "      <td>1</td>\n",
       "      <td>1</td>\n",
       "      <td>E10</td>\n",
       "      <td>1</td>\n",
       "      <td>M</td>\n",
       "      <td>2</td>\n",
       "      <td>2</td>\n",
       "    </tr>\n",
       "    <tr>\n",
       "      <th>3</th>\n",
       "      <td>1</td>\n",
       "      <td>1</td>\n",
       "      <td>2</td>\n",
       "      <td>UMF 002</td>\n",
       "      <td>1</td>\n",
       "      <td>1</td>\n",
       "      <td>1</td>\n",
       "      <td>E10</td>\n",
       "      <td>1</td>\n",
       "      <td>M</td>\n",
       "      <td>3</td>\n",
       "      <td>3</td>\n",
       "    </tr>\n",
       "    <tr>\n",
       "      <th>4</th>\n",
       "      <td>1</td>\n",
       "      <td>1</td>\n",
       "      <td>2</td>\n",
       "      <td>UMF 002</td>\n",
       "      <td>1</td>\n",
       "      <td>1</td>\n",
       "      <td>1</td>\n",
       "      <td>E10</td>\n",
       "      <td>1</td>\n",
       "      <td>M</td>\n",
       "      <td>4</td>\n",
       "      <td>1</td>\n",
       "    </tr>\n",
       "  </tbody>\n",
       "</table>\n",
       "</div>"
      ],
      "text/plain": [
       "   ID_DELEG_RP  ID_SUBDEL_RP  ID_UMF_RP NOMBRE_UMF_RP  ST_TIT_FAM  ID_CALIDAD   \n",
       "0            1             1          2       UMF 002           1           1  \\\n",
       "1            1             1          2       UMF 002           1           1   \n",
       "2            1             1          2       UMF 002           1           1   \n",
       "3            1             1          2       UMF 002           1           1   \n",
       "4            1             1          2       UMF 002           1           1   \n",
       "\n",
       "   CVE_SEXO CVE_RANGO_EDAD  ST_CONSULTORIO ID_TURNO  ID_CONSULTORIO  TOT_CASOS  \n",
       "0         1            E10               0        0            9998          2  \n",
       "1         1            E10               1        M               1          1  \n",
       "2         1            E10               1        M               2          2  \n",
       "3         1            E10               1        M               3          3  \n",
       "4         1            E10               1        M               4          1  "
      ]
     },
     "metadata": {},
     "output_type": "display_data"
    },
    {
     "data": {
      "text/plain": [
       "(3255918, 12)"
      ]
     },
     "execution_count": 24,
     "metadata": {},
     "output_type": "execute_result"
    }
   ],
   "source": [
    "beneficiarios2023 = pd.read_csv('https://drive.google.com/file/d/1RLUAWDaxYnEikgLLqkJspvVqoVD3GS06/view?usp=share_link', encoding=\"ISO-8859-1\", sep=\"|\")\n",
    "display(beneficiarios2023.head())\n",
    "beneficiarios2023.shape"
   ]
  },
  {
   "cell_type": "code",
   "execution_count": 25,
   "id": "e7929bda",
   "metadata": {},
   "outputs": [
    {
     "name": "stdout",
     "output_type": "stream",
     "text": [
      "<class 'pandas.core.frame.DataFrame'>\n",
      "RangeIndex: 3255918 entries, 0 to 3255917\n",
      "Data columns (total 12 columns):\n",
      " #   Column          Dtype \n",
      "---  ------          ----- \n",
      " 0   ID_DELEG_RP     int64 \n",
      " 1   ID_SUBDEL_RP    int64 \n",
      " 2   ID_UMF_RP       int64 \n",
      " 3   NOMBRE_UMF_RP   object\n",
      " 4   ST_TIT_FAM      int64 \n",
      " 5   ID_CALIDAD      int64 \n",
      " 6   CVE_SEXO        int64 \n",
      " 7   CVE_RANGO_EDAD  object\n",
      " 8   ST_CONSULTORIO  int64 \n",
      " 9   ID_TURNO        object\n",
      " 10  ID_CONSULTORIO  int64 \n",
      " 11  TOT_CASOS       int64 \n",
      "dtypes: int64(9), object(3)\n",
      "memory usage: 298.1+ MB\n"
     ]
    }
   ],
   "source": [
    "beneficiarios2023.info()"
   ]
  },
  {
   "cell_type": "code",
   "execution_count": 26,
   "id": "3efd0d2f",
   "metadata": {},
   "outputs": [
    {
     "data": {
      "text/plain": [
       "ID_DELEG_RP       0\n",
       "ID_SUBDEL_RP      0\n",
       "ID_UMF_RP         0\n",
       "NOMBRE_UMF_RP     0\n",
       "ST_TIT_FAM        0\n",
       "ID_CALIDAD        0\n",
       "CVE_SEXO          0\n",
       "CVE_RANGO_EDAD    0\n",
       "ST_CONSULTORIO    0\n",
       "ID_TURNO          0\n",
       "ID_CONSULTORIO    0\n",
       "TOT_CASOS         0\n",
       "dtype: int64"
      ]
     },
     "execution_count": 26,
     "metadata": {},
     "output_type": "execute_result"
    }
   ],
   "source": [
    "beneficiarios2023.isna().sum()"
   ]
  },
  {
   "cell_type": "code",
   "execution_count": 27,
   "id": "26f0bea0",
   "metadata": {},
   "outputs": [
    {
     "data": {
      "text/html": [
       "<div>\n",
       "<style scoped>\n",
       "    .dataframe tbody tr th:only-of-type {\n",
       "        vertical-align: middle;\n",
       "    }\n",
       "\n",
       "    .dataframe tbody tr th {\n",
       "        vertical-align: top;\n",
       "    }\n",
       "\n",
       "    .dataframe thead th {\n",
       "        text-align: right;\n",
       "    }\n",
       "</style>\n",
       "<table border=\"1\" class=\"dataframe\">\n",
       "  <thead>\n",
       "    <tr style=\"text-align: right;\">\n",
       "      <th></th>\n",
       "      <th>header_name</th>\n",
       "      <th>percent_nulls</th>\n",
       "    </tr>\n",
       "  </thead>\n",
       "  <tbody>\n",
       "    <tr>\n",
       "      <th>0</th>\n",
       "      <td>ID_DELEG_RP</td>\n",
       "      <td>0.0</td>\n",
       "    </tr>\n",
       "    <tr>\n",
       "      <th>1</th>\n",
       "      <td>ID_SUBDEL_RP</td>\n",
       "      <td>0.0</td>\n",
       "    </tr>\n",
       "    <tr>\n",
       "      <th>2</th>\n",
       "      <td>ID_UMF_RP</td>\n",
       "      <td>0.0</td>\n",
       "    </tr>\n",
       "    <tr>\n",
       "      <th>3</th>\n",
       "      <td>NOMBRE_UMF_RP</td>\n",
       "      <td>0.0</td>\n",
       "    </tr>\n",
       "    <tr>\n",
       "      <th>4</th>\n",
       "      <td>ST_TIT_FAM</td>\n",
       "      <td>0.0</td>\n",
       "    </tr>\n",
       "    <tr>\n",
       "      <th>5</th>\n",
       "      <td>ID_CALIDAD</td>\n",
       "      <td>0.0</td>\n",
       "    </tr>\n",
       "    <tr>\n",
       "      <th>6</th>\n",
       "      <td>CVE_SEXO</td>\n",
       "      <td>0.0</td>\n",
       "    </tr>\n",
       "    <tr>\n",
       "      <th>7</th>\n",
       "      <td>CVE_RANGO_EDAD</td>\n",
       "      <td>0.0</td>\n",
       "    </tr>\n",
       "    <tr>\n",
       "      <th>8</th>\n",
       "      <td>ST_CONSULTORIO</td>\n",
       "      <td>0.0</td>\n",
       "    </tr>\n",
       "    <tr>\n",
       "      <th>9</th>\n",
       "      <td>ID_TURNO</td>\n",
       "      <td>0.0</td>\n",
       "    </tr>\n",
       "    <tr>\n",
       "      <th>10</th>\n",
       "      <td>ID_CONSULTORIO</td>\n",
       "      <td>0.0</td>\n",
       "    </tr>\n",
       "    <tr>\n",
       "      <th>11</th>\n",
       "      <td>TOT_CASOS</td>\n",
       "      <td>0.0</td>\n",
       "    </tr>\n",
       "  </tbody>\n",
       "</table>\n",
       "</div>"
      ],
      "text/plain": [
       "       header_name  percent_nulls\n",
       "0      ID_DELEG_RP            0.0\n",
       "1     ID_SUBDEL_RP            0.0\n",
       "2        ID_UMF_RP            0.0\n",
       "3    NOMBRE_UMF_RP            0.0\n",
       "4       ST_TIT_FAM            0.0\n",
       "5       ID_CALIDAD            0.0\n",
       "6         CVE_SEXO            0.0\n",
       "7   CVE_RANGO_EDAD            0.0\n",
       "8   ST_CONSULTORIO            0.0\n",
       "9         ID_TURNO            0.0\n",
       "10  ID_CONSULTORIO            0.0\n",
       "11       TOT_CASOS            0.0"
      ]
     },
     "metadata": {},
     "output_type": "display_data"
    }
   ],
   "source": [
    "nulls_df = pd.DataFrame(round(beneficiarios2023.isna().sum()/len(beneficiarios2023),4)*100)\n",
    "nulls_df = nulls_df.reset_index()\n",
    "nulls_df.columns = ['header_name', 'percent_nulls']\n",
    "display(nulls_df)"
   ]
  },
  {
   "cell_type": "code",
   "execution_count": 28,
   "id": "d19dd38e",
   "metadata": {},
   "outputs": [
    {
     "name": "stdout",
     "output_type": "stream",
     "text": [
      "Column ID_DELEG_RP has 0 zero values\n",
      "Column ID_SUBDEL_RP has 0 zero values\n",
      "Column ID_UMF_RP has 0 zero values\n",
      "Column NOMBRE_UMF_RP has 65072 zero values\n",
      "Column ST_TIT_FAM has 0 zero values\n",
      "Column ID_CALIDAD has 0 zero values\n",
      "Column CVE_SEXO has 0 zero values\n",
      "Column CVE_RANGO_EDAD has 177393 zero values\n",
      "Column ST_CONSULTORIO has 39212 zero values\n",
      "Column ID_TURNO has 1666971 zero values\n",
      "Column ID_CONSULTORIO has 17 zero values\n",
      "Column TOT_CASOS has 0 zero values\n"
     ]
    }
   ],
   "source": [
    "for col in beneficiarios2023.columns:\n",
    "    count_zeros = beneficiarios2023[col].value_counts().get(0, 0)\n",
    "    print(f'Column {col} has {count_zeros} zero values')"
   ]
  },
  {
   "cell_type": "code",
   "execution_count": 29,
   "id": "13f8b744",
   "metadata": {},
   "outputs": [
    {
     "data": {
      "text/html": [
       "<div>\n",
       "<style scoped>\n",
       "    .dataframe tbody tr th:only-of-type {\n",
       "        vertical-align: middle;\n",
       "    }\n",
       "\n",
       "    .dataframe tbody tr th {\n",
       "        vertical-align: top;\n",
       "    }\n",
       "\n",
       "    .dataframe thead th {\n",
       "        text-align: right;\n",
       "    }\n",
       "</style>\n",
       "<table border=\"1\" class=\"dataframe\">\n",
       "  <thead>\n",
       "    <tr style=\"text-align: right;\">\n",
       "      <th></th>\n",
       "      <th>count</th>\n",
       "      <th>mean</th>\n",
       "      <th>std</th>\n",
       "      <th>min</th>\n",
       "      <th>25%</th>\n",
       "      <th>50%</th>\n",
       "      <th>75%</th>\n",
       "      <th>max</th>\n",
       "    </tr>\n",
       "  </thead>\n",
       "  <tbody>\n",
       "    <tr>\n",
       "      <th>ID_DELEG_RP</th>\n",
       "      <td>3255918.0</td>\n",
       "      <td>19.540911</td>\n",
       "      <td>10.789197</td>\n",
       "      <td>1.0</td>\n",
       "      <td>12.0</td>\n",
       "      <td>18.0</td>\n",
       "      <td>27.0</td>\n",
       "      <td>40.0</td>\n",
       "    </tr>\n",
       "    <tr>\n",
       "      <th>ID_SUBDEL_RP</th>\n",
       "      <td>3255918.0</td>\n",
       "      <td>18.415117</td>\n",
       "      <td>21.231943</td>\n",
       "      <td>1.0</td>\n",
       "      <td>2.0</td>\n",
       "      <td>8.0</td>\n",
       "      <td>33.0</td>\n",
       "      <td>80.0</td>\n",
       "    </tr>\n",
       "    <tr>\n",
       "      <th>ID_UMF_RP</th>\n",
       "      <td>3255918.0</td>\n",
       "      <td>45.139341</td>\n",
       "      <td>47.043765</td>\n",
       "      <td>1.0</td>\n",
       "      <td>12.0</td>\n",
       "      <td>33.0</td>\n",
       "      <td>61.0</td>\n",
       "      <td>250.0</td>\n",
       "    </tr>\n",
       "    <tr>\n",
       "      <th>ST_TIT_FAM</th>\n",
       "      <td>3255918.0</td>\n",
       "      <td>1.813003</td>\n",
       "      <td>0.389909</td>\n",
       "      <td>1.0</td>\n",
       "      <td>2.0</td>\n",
       "      <td>2.0</td>\n",
       "      <td>2.0</td>\n",
       "      <td>2.0</td>\n",
       "    </tr>\n",
       "    <tr>\n",
       "      <th>ID_CALIDAD</th>\n",
       "      <td>3255918.0</td>\n",
       "      <td>9.264421</td>\n",
       "      <td>6.130044</td>\n",
       "      <td>1.0</td>\n",
       "      <td>2.0</td>\n",
       "      <td>12.0</td>\n",
       "      <td>14.0</td>\n",
       "      <td>40.0</td>\n",
       "    </tr>\n",
       "    <tr>\n",
       "      <th>CVE_SEXO</th>\n",
       "      <td>3255918.0</td>\n",
       "      <td>1.528318</td>\n",
       "      <td>0.499198</td>\n",
       "      <td>1.0</td>\n",
       "      <td>1.0</td>\n",
       "      <td>2.0</td>\n",
       "      <td>2.0</td>\n",
       "      <td>2.0</td>\n",
       "    </tr>\n",
       "    <tr>\n",
       "      <th>ST_CONSULTORIO</th>\n",
       "      <td>3255918.0</td>\n",
       "      <td>0.987957</td>\n",
       "      <td>0.109079</td>\n",
       "      <td>0.0</td>\n",
       "      <td>1.0</td>\n",
       "      <td>1.0</td>\n",
       "      <td>1.0</td>\n",
       "      <td>1.0</td>\n",
       "    </tr>\n",
       "    <tr>\n",
       "      <th>ID_CONSULTORIO</th>\n",
       "      <td>3255918.0</td>\n",
       "      <td>129.302108</td>\n",
       "      <td>1089.415681</td>\n",
       "      <td>0.0</td>\n",
       "      <td>3.0</td>\n",
       "      <td>6.0</td>\n",
       "      <td>13.0</td>\n",
       "      <td>9998.0</td>\n",
       "    </tr>\n",
       "    <tr>\n",
       "      <th>TOT_CASOS</th>\n",
       "      <td>3255918.0</td>\n",
       "      <td>18.849417</td>\n",
       "      <td>89.836263</td>\n",
       "      <td>1.0</td>\n",
       "      <td>2.0</td>\n",
       "      <td>6.0</td>\n",
       "      <td>17.0</td>\n",
       "      <td>34472.0</td>\n",
       "    </tr>\n",
       "  </tbody>\n",
       "</table>\n",
       "</div>"
      ],
      "text/plain": [
       "                    count        mean          std  min   25%   50%   75%   \n",
       "ID_DELEG_RP     3255918.0   19.540911    10.789197  1.0  12.0  18.0  27.0  \\\n",
       "ID_SUBDEL_RP    3255918.0   18.415117    21.231943  1.0   2.0   8.0  33.0   \n",
       "ID_UMF_RP       3255918.0   45.139341    47.043765  1.0  12.0  33.0  61.0   \n",
       "ST_TIT_FAM      3255918.0    1.813003     0.389909  1.0   2.0   2.0   2.0   \n",
       "ID_CALIDAD      3255918.0    9.264421     6.130044  1.0   2.0  12.0  14.0   \n",
       "CVE_SEXO        3255918.0    1.528318     0.499198  1.0   1.0   2.0   2.0   \n",
       "ST_CONSULTORIO  3255918.0    0.987957     0.109079  0.0   1.0   1.0   1.0   \n",
       "ID_CONSULTORIO  3255918.0  129.302108  1089.415681  0.0   3.0   6.0  13.0   \n",
       "TOT_CASOS       3255918.0   18.849417    89.836263  1.0   2.0   6.0  17.0   \n",
       "\n",
       "                    max  \n",
       "ID_DELEG_RP        40.0  \n",
       "ID_SUBDEL_RP       80.0  \n",
       "ID_UMF_RP         250.0  \n",
       "ST_TIT_FAM          2.0  \n",
       "ID_CALIDAD         40.0  \n",
       "CVE_SEXO            2.0  \n",
       "ST_CONSULTORIO      1.0  \n",
       "ID_CONSULTORIO   9998.0  \n",
       "TOT_CASOS       34472.0  "
      ]
     },
     "execution_count": 29,
     "metadata": {},
     "output_type": "execute_result"
    }
   ],
   "source": [
    "beneficiarios2023.describe().T"
   ]
  },
  {
   "cell_type": "code",
   "execution_count": 30,
   "id": "2606cc6f",
   "metadata": {},
   "outputs": [
    {
     "data": {
      "text/plain": [
       "array([1, 2])"
      ]
     },
     "execution_count": 30,
     "metadata": {},
     "output_type": "execute_result"
    }
   ],
   "source": [
    "beneficiarios2023['CVE_SEXO'].unique()"
   ]
  },
  {
   "cell_type": "code",
   "execution_count": 31,
   "id": "2dffa306",
   "metadata": {},
   "outputs": [
    {
     "data": {
      "text/plain": [
       "CVE_SEXO\n",
       "2    1720161\n",
       "1    1535757\n",
       "Name: count, dtype: int64"
      ]
     },
     "execution_count": 31,
     "metadata": {},
     "output_type": "execute_result"
    }
   ],
   "source": [
    "beneficiarios2023['CVE_SEXO'].value_counts()"
   ]
  },
  {
   "cell_type": "code",
   "execution_count": 32,
   "id": "9d8320dc",
   "metadata": {},
   "outputs": [
    {
     "data": {
      "text/plain": [
       "array([  2,   3,   5,   6,   7,   8,   9,  10,  12,   1,   4,  11,  15,\n",
       "        16,  24,  26,  28,  31,  37,  40,  39,  13,  14,  22,  25,  29,\n",
       "        32,  38,  17,  18,  19,  21,  27,  33,  34,  35,  36,  62,  67,\n",
       "        70,  73,  82,  88,  89,  91,  20,  61,  66,  80,  83,  81,  87,\n",
       "        60,  64,  79,  50,  52,  74,  84,  85,  86,  23,  41,  42,  43,\n",
       "        44,  45,  30,  58,  69,  57,  54,  55,  47,  48,  56,  63,  65,\n",
       "        46,  49,  53,  59,  51,  94, 128, 130, 132, 133, 159, 160, 168,\n",
       "       177, 183,  95, 100, 165, 169,  71,  76, 114,  68, 106, 171, 178,\n",
       "       182,  78,  93, 167, 181, 184,  72,  75,  77,  92,  96,  97,  98,\n",
       "       137, 155, 162, 170, 179, 185, 186, 188, 191, 198, 180, 189, 193,\n",
       "       195, 220, 222, 223, 224, 225, 226, 227, 228, 229, 230, 231, 232,\n",
       "       233, 234, 235, 236, 237, 238, 239, 240, 241, 242, 243, 244, 245,\n",
       "       246, 247, 248, 249, 250, 187, 190, 192, 120, 140, 161, 163, 164])"
      ]
     },
     "execution_count": 32,
     "metadata": {},
     "output_type": "execute_result"
    }
   ],
   "source": [
    "beneficiarios2023['ID_UMF_RP'].unique()"
   ]
  },
  {
   "cell_type": "code",
   "execution_count": 33,
   "id": "3c1e5dfd",
   "metadata": {},
   "outputs": [
    {
     "data": {
      "text/plain": [
       "ID_UMF_RP\n",
       "1      111173\n",
       "2      109411\n",
       "7       79475\n",
       "3       72263\n",
       "9       70046\n",
       "        ...  \n",
       "98        247\n",
       "240       240\n",
       "237       210\n",
       "225       186\n",
       "106       182\n",
       "Name: count, Length: 169, dtype: int64"
      ]
     },
     "execution_count": 33,
     "metadata": {},
     "output_type": "execute_result"
    }
   ],
   "source": [
    "beneficiarios2023['ID_UMF_RP'].value_counts()"
   ]
  },
  {
   "cell_type": "code",
   "execution_count": 34,
   "id": "78484585",
   "metadata": {},
   "outputs": [
    {
     "data": {
      "text/plain": [
       "array([1, 2])"
      ]
     },
     "execution_count": 34,
     "metadata": {},
     "output_type": "execute_result"
    }
   ],
   "source": [
    "beneficiarios2023['ST_TIT_FAM'].unique()"
   ]
  },
  {
   "cell_type": "code",
   "execution_count": 35,
   "id": "32517b8e",
   "metadata": {},
   "outputs": [
    {
     "data": {
      "text/plain": [
       "ST_TIT_FAM\n",
       "2    2647071\n",
       "1     608847\n",
       "Name: count, dtype: int64"
      ]
     },
     "execution_count": 35,
     "metadata": {},
     "output_type": "execute_result"
    }
   ],
   "source": [
    "beneficiarios2023['ST_TIT_FAM'].value_counts()"
   ]
  },
  {
   "cell_type": "code",
   "execution_count": 36,
   "id": "2110b188",
   "metadata": {},
   "outputs": [
    {
     "data": {
      "text/plain": [
       "array([ 1,  2,  3,  4,  5,  6,  7, 10, 11, 12, 13, 14, 15, 16, 17, 18, 19,\n",
       "       20, 21, 22, 23, 24, 26, 28, 29, 40, 25, 39,  8, 30, 32, 34,  9, 27,\n",
       "       31, 37, 38, 33, 35, 36])"
      ]
     },
     "execution_count": 36,
     "metadata": {},
     "output_type": "execute_result"
    }
   ],
   "source": [
    "beneficiarios2023['ID_CALIDAD'].unique()"
   ]
  },
  {
   "cell_type": "code",
   "execution_count": 37,
   "id": "f67f2fae",
   "metadata": {},
   "outputs": [
    {
     "data": {
      "text/plain": [
       "ID_CALIDAD\n",
       "1     608847\n",
       "13    463519\n",
       "14    419726\n",
       "2     386137\n",
       "15    355440\n",
       "6     257286\n",
       "16    213188\n",
       "12    158793\n",
       "11    144218\n",
       "17     87867\n",
       "3      74376\n",
       "18     29975\n",
       "7      20255\n",
       "19     10129\n",
       "40      5127\n",
       "20      3852\n",
       "5       3851\n",
       "4       3035\n",
       "10      2862\n",
       "21      1699\n",
       "8        921\n",
       "24       659\n",
       "25       655\n",
       "30       484\n",
       "22       435\n",
       "26       386\n",
       "31       334\n",
       "27       334\n",
       "28       328\n",
       "9        267\n",
       "29       245\n",
       "32       140\n",
       "23       112\n",
       "39       109\n",
       "33       107\n",
       "34        65\n",
       "37        40\n",
       "38        39\n",
       "35        38\n",
       "36        38\n",
       "Name: count, dtype: int64"
      ]
     },
     "execution_count": 37,
     "metadata": {},
     "output_type": "execute_result"
    }
   ],
   "source": [
    "beneficiarios2023['ID_CALIDAD'].value_counts()"
   ]
  },
  {
   "cell_type": "code",
   "execution_count": 38,
   "id": "faa67292",
   "metadata": {},
   "outputs": [
    {
     "data": {
      "text/plain": [
       "array([   2,    1,    3, ..., 2303, 1295,  925])"
      ]
     },
     "execution_count": 38,
     "metadata": {},
     "output_type": "execute_result"
    }
   ],
   "source": [
    "beneficiarios2023['TOT_CASOS'].unique()"
   ]
  },
  {
   "cell_type": "code",
   "execution_count": 39,
   "id": "88f65f04",
   "metadata": {},
   "outputs": [
    {
     "data": {
      "text/plain": [
       "TOT_CASOS\n",
       "1        709196\n",
       "2        327113\n",
       "3        220459\n",
       "4        173944\n",
       "5        145979\n",
       "          ...  \n",
       "8604          1\n",
       "9798          1\n",
       "10155         1\n",
       "1837          1\n",
       "925           1\n",
       "Name: count, Length: 2188, dtype: int64"
      ]
     },
     "execution_count": 39,
     "metadata": {},
     "output_type": "execute_result"
    }
   ],
   "source": [
    "beneficiarios2023['TOT_CASOS'].value_counts()"
   ]
  },
  {
   "cell_type": "code",
   "execution_count": 40,
   "id": "ae84e638",
   "metadata": {},
   "outputs": [
    {
     "data": {
      "text/plain": [
       "array([0, 1])"
      ]
     },
     "execution_count": 40,
     "metadata": {},
     "output_type": "execute_result"
    }
   ],
   "source": [
    "beneficiarios2023['ST_CONSULTORIO'].unique()"
   ]
  },
  {
   "cell_type": "code",
   "execution_count": 41,
   "id": "ee864359",
   "metadata": {},
   "outputs": [
    {
     "data": {
      "text/plain": [
       "ST_CONSULTORIO\n",
       "1    3216706\n",
       "0      39212\n",
       "Name: count, dtype: int64"
      ]
     },
     "execution_count": 41,
     "metadata": {},
     "output_type": "execute_result"
    }
   ],
   "source": [
    "beneficiarios2023['ST_CONSULTORIO'].value_counts()"
   ]
  },
  {
   "cell_type": "code",
   "execution_count": 42,
   "id": "a99c7c80",
   "metadata": {},
   "outputs": [
    {
     "data": {
      "text/plain": [
       "array(['E10', 'E11', 'E12', 'E13', 'E14', 'E15', 'E16', 'E17', 'E18',\n",
       "       'E19', 'E20', 'E21', 'E22', 'E23', 'E24', 'E25', 'E26', 'E27',\n",
       "       'E28', 'E5', 'E6', 'E7', 'E8', 'E9', 'E3', 'E0', 'E1', 'E2', 'E4',\n",
       "       'ND'], dtype=object)"
      ]
     },
     "execution_count": 42,
     "metadata": {},
     "output_type": "execute_result"
    }
   ],
   "source": [
    "beneficiarios2023['CVE_RANGO_EDAD'].unique()"
   ]
  },
  {
   "cell_type": "code",
   "execution_count": 43,
   "id": "6af4d95d",
   "metadata": {},
   "outputs": [
    {
     "data": {
      "text/plain": [
       "CVE_RANGO_EDAD\n",
       "E10    177393\n",
       "E11    144398\n",
       "E20    138214\n",
       "E19    134435\n",
       "E21    134150\n",
       "E22    127309\n",
       "E18    123854\n",
       "E23    120260\n",
       "E17    116595\n",
       "E7     116562\n",
       "E9     115770\n",
       "E8     115053\n",
       "E6     114770\n",
       "E5     113755\n",
       "E4     112165\n",
       "E24    112054\n",
       "E3     110207\n",
       "E16    106582\n",
       "E2     106443\n",
       "E15    103616\n",
       "E25    103285\n",
       "E1     103024\n",
       "E0     100530\n",
       "E26     95965\n",
       "E12     91623\n",
       "E27     88300\n",
       "E28     84816\n",
       "E14     71317\n",
       "E13     69530\n",
       "ND       3943\n",
       "Name: count, dtype: int64"
      ]
     },
     "execution_count": 43,
     "metadata": {},
     "output_type": "execute_result"
    }
   ],
   "source": [
    "beneficiarios2023['CVE_RANGO_EDAD'].value_counts()"
   ]
  },
  {
   "cell_type": "code",
   "execution_count": 44,
   "id": "66669570",
   "metadata": {},
   "outputs": [
    {
     "data": {
      "text/plain": [
       "Index(['ID_DELEG_RP', 'ID_SUBDEL_RP', 'ID_UMF_RP', 'NOMBRE_UMF_RP',\n",
       "       'ST_TIT_FAM', 'ID_CALIDAD', 'CVE_GENERO', 'CVE_RANGO_EDAD',\n",
       "       'ST_CONSULTORIO', 'ID_TURNO', 'ID_CONSULTORIO', 'TOT_CASOS'],\n",
       "      dtype='object')"
      ]
     },
     "metadata": {},
     "output_type": "display_data"
    },
    {
     "data": {
      "text/plain": [
       "Index(['ID_DELEG_RP', 'ID_SUBDEL_RP', 'ID_UMF_RP', 'NOMBRE_UMF_RP',\n",
       "       'ST_TIT_FAM', 'ID_CALIDAD', 'CVE_SEXO', 'CVE_RANGO_EDAD',\n",
       "       'ST_CONSULTORIO', 'ID_TURNO', 'ID_CONSULTORIO', 'TOT_CASOS'],\n",
       "      dtype='object')"
      ]
     },
     "metadata": {},
     "output_type": "display_data"
    }
   ],
   "source": [
    "display(beneficiarios2013.columns)\n",
    "display(beneficiarios2023.columns)"
   ]
  },
  {
   "cell_type": "markdown",
   "id": "0c1d45cf",
   "metadata": {},
   "source": [
    "4. Once I reviewed the data, I cleaned the database, doing the next steps:\n",
    "- Eliminate NaN\n",
    "- The 0 values are part of codification of database, so I will work with all 0 values.\n",
    "- Eliminate the columns that I don't need to the analysis. I will work just with 'ID_DELEG_RP', 'ID_SUBDEL_RP', 'ID_UMF_RP', 'NOMBRE_UMF_RP','ST_TIT_FAM', 'ID_CALIDAD', 'CVE_SEXO', 'CVE_RANGO_EDAD', 'ST_CONSULTORIO', 'TOT_CASOS'\n",
    "- Make column names lowercase.\n",
    "- Rename columns ID_DELEG_RP and ID_SUBDEL_RP with the same of database asegurados_clean.\n",
    "- Add the date column, to identify the year of every data."
   ]
  },
  {
   "cell_type": "code",
   "execution_count": 45,
   "id": "d82135d4",
   "metadata": {
    "scrolled": true
   },
   "outputs": [],
   "source": [
    "def clean_beneficiarios2023(df):\n",
    "    df=df.drop(columns=['ID_TURNO', 'ID_CONSULTORIO'])\n",
    "    df=df.rename(columns={'ID_DELEG_RP':'cve_delegacion','ID_SUBDEL_RP':'cve_subdelegacion'})\n",
    "    df.columns=[e.lower().replace(' ', '_') for e in df.columns]\n",
    "    df=df.dropna()\n",
    "    df['period']=pd.to_datetime('2023-01-31')\n",
    "    return df\n",
    "\n",
    "cleaned_beneficiarios2023 = clean_beneficiarios2023(beneficiarios2023) "
   ]
  },
  {
   "cell_type": "code",
   "execution_count": 46,
   "id": "458a058d",
   "metadata": {},
   "outputs": [
    {
     "data": {
      "text/html": [
       "<div>\n",
       "<style scoped>\n",
       "    .dataframe tbody tr th:only-of-type {\n",
       "        vertical-align: middle;\n",
       "    }\n",
       "\n",
       "    .dataframe tbody tr th {\n",
       "        vertical-align: top;\n",
       "    }\n",
       "\n",
       "    .dataframe thead th {\n",
       "        text-align: right;\n",
       "    }\n",
       "</style>\n",
       "<table border=\"1\" class=\"dataframe\">\n",
       "  <thead>\n",
       "    <tr style=\"text-align: right;\">\n",
       "      <th></th>\n",
       "      <th>cve_delegacion</th>\n",
       "      <th>cve_subdelegacion</th>\n",
       "      <th>id_umf_rp</th>\n",
       "      <th>nombre_umf_rp</th>\n",
       "      <th>st_tit_fam</th>\n",
       "      <th>id_calidad</th>\n",
       "      <th>cve_sexo</th>\n",
       "      <th>cve_rango_edad</th>\n",
       "      <th>st_consultorio</th>\n",
       "      <th>tot_casos</th>\n",
       "      <th>period</th>\n",
       "    </tr>\n",
       "  </thead>\n",
       "  <tbody>\n",
       "    <tr>\n",
       "      <th>0</th>\n",
       "      <td>1</td>\n",
       "      <td>1</td>\n",
       "      <td>2</td>\n",
       "      <td>UMF 002</td>\n",
       "      <td>1</td>\n",
       "      <td>1</td>\n",
       "      <td>1</td>\n",
       "      <td>E10</td>\n",
       "      <td>0</td>\n",
       "      <td>2</td>\n",
       "      <td>2023-01-31</td>\n",
       "    </tr>\n",
       "    <tr>\n",
       "      <th>1</th>\n",
       "      <td>1</td>\n",
       "      <td>1</td>\n",
       "      <td>2</td>\n",
       "      <td>UMF 002</td>\n",
       "      <td>1</td>\n",
       "      <td>1</td>\n",
       "      <td>1</td>\n",
       "      <td>E10</td>\n",
       "      <td>1</td>\n",
       "      <td>1</td>\n",
       "      <td>2023-01-31</td>\n",
       "    </tr>\n",
       "    <tr>\n",
       "      <th>2</th>\n",
       "      <td>1</td>\n",
       "      <td>1</td>\n",
       "      <td>2</td>\n",
       "      <td>UMF 002</td>\n",
       "      <td>1</td>\n",
       "      <td>1</td>\n",
       "      <td>1</td>\n",
       "      <td>E10</td>\n",
       "      <td>1</td>\n",
       "      <td>2</td>\n",
       "      <td>2023-01-31</td>\n",
       "    </tr>\n",
       "    <tr>\n",
       "      <th>3</th>\n",
       "      <td>1</td>\n",
       "      <td>1</td>\n",
       "      <td>2</td>\n",
       "      <td>UMF 002</td>\n",
       "      <td>1</td>\n",
       "      <td>1</td>\n",
       "      <td>1</td>\n",
       "      <td>E10</td>\n",
       "      <td>1</td>\n",
       "      <td>3</td>\n",
       "      <td>2023-01-31</td>\n",
       "    </tr>\n",
       "    <tr>\n",
       "      <th>4</th>\n",
       "      <td>1</td>\n",
       "      <td>1</td>\n",
       "      <td>2</td>\n",
       "      <td>UMF 002</td>\n",
       "      <td>1</td>\n",
       "      <td>1</td>\n",
       "      <td>1</td>\n",
       "      <td>E10</td>\n",
       "      <td>1</td>\n",
       "      <td>1</td>\n",
       "      <td>2023-01-31</td>\n",
       "    </tr>\n",
       "    <tr>\n",
       "      <th>...</th>\n",
       "      <td>...</td>\n",
       "      <td>...</td>\n",
       "      <td>...</td>\n",
       "      <td>...</td>\n",
       "      <td>...</td>\n",
       "      <td>...</td>\n",
       "      <td>...</td>\n",
       "      <td>...</td>\n",
       "      <td>...</td>\n",
       "      <td>...</td>\n",
       "      <td>...</td>\n",
       "    </tr>\n",
       "    <tr>\n",
       "      <th>3255913</th>\n",
       "      <td>40</td>\n",
       "      <td>58</td>\n",
       "      <td>26</td>\n",
       "      <td>HGZMF 026</td>\n",
       "      <td>2</td>\n",
       "      <td>20</td>\n",
       "      <td>2</td>\n",
       "      <td>E10</td>\n",
       "      <td>1</td>\n",
       "      <td>1</td>\n",
       "      <td>2023-01-31</td>\n",
       "    </tr>\n",
       "    <tr>\n",
       "      <th>3255914</th>\n",
       "      <td>40</td>\n",
       "      <td>58</td>\n",
       "      <td>26</td>\n",
       "      <td>HGZMF 026</td>\n",
       "      <td>2</td>\n",
       "      <td>40</td>\n",
       "      <td>1</td>\n",
       "      <td>ND</td>\n",
       "      <td>1</td>\n",
       "      <td>1</td>\n",
       "      <td>2023-01-31</td>\n",
       "    </tr>\n",
       "    <tr>\n",
       "      <th>3255915</th>\n",
       "      <td>40</td>\n",
       "      <td>58</td>\n",
       "      <td>26</td>\n",
       "      <td>HGZMF 026</td>\n",
       "      <td>2</td>\n",
       "      <td>40</td>\n",
       "      <td>2</td>\n",
       "      <td>ND</td>\n",
       "      <td>1</td>\n",
       "      <td>1</td>\n",
       "      <td>2023-01-31</td>\n",
       "    </tr>\n",
       "    <tr>\n",
       "      <th>3255916</th>\n",
       "      <td>40</td>\n",
       "      <td>58</td>\n",
       "      <td>26</td>\n",
       "      <td>HGZMF 026</td>\n",
       "      <td>2</td>\n",
       "      <td>40</td>\n",
       "      <td>2</td>\n",
       "      <td>ND</td>\n",
       "      <td>1</td>\n",
       "      <td>1</td>\n",
       "      <td>2023-01-31</td>\n",
       "    </tr>\n",
       "    <tr>\n",
       "      <th>3255917</th>\n",
       "      <td>40</td>\n",
       "      <td>58</td>\n",
       "      <td>26</td>\n",
       "      <td>HGZMF 026</td>\n",
       "      <td>2</td>\n",
       "      <td>40</td>\n",
       "      <td>2</td>\n",
       "      <td>ND</td>\n",
       "      <td>1</td>\n",
       "      <td>1</td>\n",
       "      <td>2023-01-31</td>\n",
       "    </tr>\n",
       "  </tbody>\n",
       "</table>\n",
       "<p>3255918 rows × 11 columns</p>\n",
       "</div>"
      ],
      "text/plain": [
       "         cve_delegacion  cve_subdelegacion  id_umf_rp nombre_umf_rp   \n",
       "0                     1                  1          2       UMF 002  \\\n",
       "1                     1                  1          2       UMF 002   \n",
       "2                     1                  1          2       UMF 002   \n",
       "3                     1                  1          2       UMF 002   \n",
       "4                     1                  1          2       UMF 002   \n",
       "...                 ...                ...        ...           ...   \n",
       "3255913              40                 58         26     HGZMF 026   \n",
       "3255914              40                 58         26     HGZMF 026   \n",
       "3255915              40                 58         26     HGZMF 026   \n",
       "3255916              40                 58         26     HGZMF 026   \n",
       "3255917              40                 58         26     HGZMF 026   \n",
       "\n",
       "         st_tit_fam  id_calidad  cve_sexo cve_rango_edad  st_consultorio   \n",
       "0                 1           1         1            E10               0  \\\n",
       "1                 1           1         1            E10               1   \n",
       "2                 1           1         1            E10               1   \n",
       "3                 1           1         1            E10               1   \n",
       "4                 1           1         1            E10               1   \n",
       "...             ...         ...       ...            ...             ...   \n",
       "3255913           2          20         2            E10               1   \n",
       "3255914           2          40         1             ND               1   \n",
       "3255915           2          40         2             ND               1   \n",
       "3255916           2          40         2             ND               1   \n",
       "3255917           2          40         2             ND               1   \n",
       "\n",
       "         tot_casos     period  \n",
       "0                2 2023-01-31  \n",
       "1                1 2023-01-31  \n",
       "2                2 2023-01-31  \n",
       "3                3 2023-01-31  \n",
       "4                1 2023-01-31  \n",
       "...            ...        ...  \n",
       "3255913          1 2023-01-31  \n",
       "3255914          1 2023-01-31  \n",
       "3255915          1 2023-01-31  \n",
       "3255916          1 2023-01-31  \n",
       "3255917          1 2023-01-31  \n",
       "\n",
       "[3255918 rows x 11 columns]"
      ]
     },
     "execution_count": 46,
     "metadata": {},
     "output_type": "execute_result"
    }
   ],
   "source": [
    "cleaned_beneficiarios2023"
   ]
  },
  {
   "cell_type": "markdown",
   "id": "68c73859",
   "metadata": {},
   "source": [
    "Once both database are cleaned, I concatenated them and save in a new file."
   ]
  },
  {
   "cell_type": "code",
   "execution_count": 47,
   "id": "ac677ecd",
   "metadata": {},
   "outputs": [],
   "source": [
    "beneficiarios_clean = pd.concat([cleaned_beneficiarios2013, cleaned_beneficiarios2023], axis=0)"
   ]
  },
  {
   "cell_type": "code",
   "execution_count": 48,
   "id": "6fbea14d",
   "metadata": {},
   "outputs": [],
   "source": [
    "beneficiarios_clean = beneficiarios_clean.reset_index()"
   ]
  },
  {
   "cell_type": "code",
   "execution_count": 49,
   "id": "a0375b17",
   "metadata": {},
   "outputs": [],
   "source": [
    "# beneficiarios_clean.to_csv('../Data/cleaned/beneficiarios_clean1.csv', index=False)"
   ]
  },
  {
   "cell_type": "code",
   "execution_count": null,
   "id": "7b1ede1b",
   "metadata": {},
   "outputs": [],
   "source": []
  }
 ],
 "metadata": {
  "kernelspec": {
   "display_name": "myenv",
   "language": "python",
   "name": "myenv"
  },
  "language_info": {
   "codemirror_mode": {
    "name": "ipython",
    "version": 3
   },
   "file_extension": ".py",
   "mimetype": "text/x-python",
   "name": "python",
   "nbconvert_exporter": "python",
   "pygments_lexer": "ipython3",
   "version": "3.9.13"
  }
 },
 "nbformat": 4,
 "nbformat_minor": 5
}
